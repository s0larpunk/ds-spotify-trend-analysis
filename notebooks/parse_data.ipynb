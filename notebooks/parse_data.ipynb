{
 "cells": [
  {
   "cell_type": "code",
   "execution_count": 2,
   "metadata": {},
   "outputs": [],
   "source": [
    "import pandas as pd\n",
    "import os\n",
    "import numpy as np\n",
    "import spotipy\n",
    "from spotipy.oauth2 import SpotifyClientCredentials\n",
    "import requests\n",
    "import time"
   ]
  },
  {
   "cell_type": "code",
   "execution_count": 3,
   "metadata": {},
   "outputs": [],
   "source": [
    "# get parent directory\n",
    "parent_dir = os.path.dirname(os.getcwd())"
   ]
  },
  {
   "cell_type": "code",
   "execution_count": 4,
   "metadata": {},
   "outputs": [],
   "source": [
    "# import data from all csv files in the raw_data folder into dataframes\n",
    "df = pd.DataFrame()\n",
    "parent_dir = os.path.dirname(os.getcwd())\n",
    "lst = os.listdir(parent_dir + '/raw_data')\n",
    "lst.sort()\n",
    "for filename in lst:\n",
    "    f = os.path.join(parent_dir + '/raw_data', filename)\n",
    "    if f.endswith('.csv'):\n",
    "        df = pd.concat([df, pd.read_csv(f)], ignore_index=True)"
   ]
  },
  {
   "cell_type": "code",
   "execution_count": 5,
   "metadata": {},
   "outputs": [
    {
     "name": "stdout",
     "output_type": "stream",
     "text": [
      "[8642, 7766, 6908, 5520, 5872, 6398]\n"
     ]
    }
   ],
   "source": [
    "# create a new column for the decade of each song\n",
    "\n",
    "decades = ['1960', '1970', '1980', '1990', '2000', '2010']\n",
    "decade_length = []\n",
    "decade_column = []\n",
    "for filename in lst:\n",
    "    f = os.path.join(parent_dir + '/raw_data', filename)\n",
    "    if f.endswith('.csv'):\n",
    "        decade_length.append(pd.read_csv(f).shape[0])\n",
    "for i in range(len(decade_length)):\n",
    "    decade_column.extend([decades[i]] * decade_length[i])\n",
    "df['decade'] = decade_column\n",
    "print(decade_length)\n",
    "\n",
    "# insert empty column called release_date\n",
    "df.insert(3, 'release_date', None)"
   ]
  },
  {
   "cell_type": "code",
   "execution_count": 6,
   "metadata": {},
   "outputs": [],
   "source": [
    "# log into spotify api using client credentials, and get metadata for a song using its uri\n",
    "client_credentials_manager = SpotifyClientCredentials(client_id='00192ef409c4480c8ecad758c9ed8478', client_secret='f6a4d11d5187418a99b8045ec84fb3b6')\n",
    "sp = spotipy.Spotify(client_credentials_manager=client_credentials_manager)"
   ]
  },
  {
   "cell_type": "code",
   "execution_count": 7,
   "metadata": {},
   "outputs": [],
   "source": [
    "# use requests to log into spotify api using client credentials, and get release date for a song using its uri\n",
    "def get_song_info(uri):\n",
    "    url = 'https://api.spotify.com/v1/tracks/' + uri.split(':')[2]\n",
    "    headers = {'Authorization': 'Bearer ' + client_credentials_manager.get_access_token(as_dict=False)}\n",
    "    r = requests.get(url, headers=headers)\n",
    "    print(r)\n",
    "    r = r.json()\n",
    "    return r['album']['release_date']\n"
   ]
  },
  {
   "cell_type": "code",
   "execution_count": 9,
   "metadata": {},
   "outputs": [
    {
     "name": "stdout",
     "output_type": "stream",
     "text": [
      "<Response [200]>\n"
     ]
    },
    {
     "data": {
      "text/plain": [
       "'0000'"
      ]
     },
     "execution_count": 9,
     "metadata": {},
     "output_type": "execute_result"
    }
   ],
   "source": [
    "get_song_info('spotify:track:1bx6spmieE655BQvWdTYKA')"
   ]
  },
  {
   "cell_type": "code",
   "execution_count": 8,
   "metadata": {},
   "outputs": [
    {
     "name": "stdout",
     "output_type": "stream",
     "text": [
      "<Response [200]>\n",
      "0 / 41106 \n",
      "\n"
     ]
    },
    {
     "name": "stderr",
     "output_type": "stream",
     "text": [
      "<ipython-input-8-ac175d058a91>:6: SettingWithCopyWarning: \n",
      "A value is trying to be set on a copy of a slice from a DataFrame\n",
      "\n",
      "See the caveats in the documentation: https://pandas.pydata.org/pandas-docs/stable/user_guide/indexing.html#returning-a-view-versus-a-copy\n",
      "  df['release_date'][i] = get_song_info(df['uri'][i])\n"
     ]
    },
    {
     "name": "stdout",
     "output_type": "stream",
     "text": [
      "<Response [200]>\n",
      "1 / 41106 \n",
      "\n"
     ]
    }
   ],
   "source": [
    "# for every row of df, add a column with the release date of the song\n",
    "\n",
    "i = 0\n",
    "while (i <= len(df)):\n",
    "    try:\n",
    "        df['release_date'][i] = get_song_info(df['uri'][i])\n",
    "        print(i, '/', len(df), '\\n')\n",
    "        # write to csv every 1 row\n",
    "        df.to_csv(parent_dir + '/parsed_data/songs.csv', index=False)                         \n",
    "        time.sleep(0.3)\n",
    "        i += 1\n",
    "    except:\n",
    "        time.sleep(5)"
   ]
  },
  {
   "cell_type": "code",
   "execution_count": 9,
   "metadata": {},
   "outputs": [],
   "source": [
    "# save dataframe as csv file\n",
    "df.to_csv(parent_dir + '/parsed_data/songs.csv', index=False)"
   ]
  }
 ],
 "metadata": {
  "kernelspec": {
   "display_name": "base",
   "language": "python",
   "name": "python3"
  },
  "language_info": {
   "codemirror_mode": {
    "name": "ipython",
    "version": 3
   },
   "file_extension": ".py",
   "mimetype": "text/x-python",
   "name": "python",
   "nbconvert_exporter": "python",
   "pygments_lexer": "ipython3",
   "version": "3.8.8"
  }
 },
 "nbformat": 4,
 "nbformat_minor": 2
}
