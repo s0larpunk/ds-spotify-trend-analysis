{
 "cells": [
  {
   "cell_type": "code",
   "execution_count": null,
   "metadata": {},
   "outputs": [],
   "source": [
    "# log into spotify api using client credentials, and get metadata for a song using its uri\n",
    "client_credentials_manager = SpotifyClientCredentials(client_id='9ed081edf0f34c4099de8bdaae170067', client_secret='3a186ba6127b495c88ef0d4cf99d45ed')\n",
    "sp = spotipy.Spotify(client_credentials_manager=client_credentials_manager)\n",
    "def get_song_metadata(uri):\n",
    "    # get song artist uri\n",
    "\n",
    "    meta = sp.track(uri)\n",
    "    features = sp.audio_features(uri)\n",
    "    # get song artist uri\n",
    "    artist_uri = meta['album']['artists'][0]['uri']\n",
    "    \n",
    "    # get song genres\n",
    "    genres = sp.artist(artist_uri)['genres']\n",
    "    print(genres)\n",
    "\n",
    "    # create a dictionary for song metadata\n",
    "    song_meta = {'artist': meta['album']['artists'][0]['name'],\n",
    "                 'artist_uri': meta['album']['artists'][0]['uri'],\n",
    "                 'album': meta['album']['name'],\n",
    "                 'release_date': meta['album']['release_date'],\n",
    "                 'length': meta['duration_ms'],\n",
    "                 'popularity': meta['popularity'],\n",
    "                 'song_name': meta['name'],\n",
    "                 'key': features[0]['key'],\n",
    "                 'mode': features[0]['mode'],\n",
    "                 'time_signature': features[0]['time_signature'],\n",
    "                 'acousticness': features[0]['acousticness'],\n",
    "                 'danceability': features[0]['danceability'],\n",
    "                 'energy': features[0]['energy'],\n",
    "                 'instrumentalness': features[0]['instrumentalness'],\n",
    "                 'liveness': features[0]['liveness'],\n",
    "                 'loudness': features[0]['loudness'],\n",
    "                 'speechiness':\n",
    "                    features[0]['speechiness'],\n",
    "                    'tempo': features[0]['tempo'],\n",
    "                    'valence': features[0]['valence'],\n",
    "                    'uri': uri}\n",
    "    return song_meta\n",
    "get_song_metadata('5FTz9qQ94PyUHETyAyfYZN')"
   ]
  }
 ],
 "metadata": {
  "language_info": {
   "name": "python"
  }
 },
 "nbformat": 4,
 "nbformat_minor": 2
}
