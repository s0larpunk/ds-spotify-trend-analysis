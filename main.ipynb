{
 "cells": [
  {
   "cell_type": "code",
   "execution_count": 17,
   "metadata": {},
   "outputs": [],
   "source": [
    "# import libraries for data manipulation, analysis and visualisation\n",
    "import pandas as pd\n",
    "import os\n",
    "import matplotlib.pyplot as plt\n",
    "import seaborn as sns\n",
    "import spotipy\n",
    "from spotipy.oauth2 import SpotifyClientCredentials\n",
    "from sklearn.linear_model import LogisticRegression\n",
    "from sklearn.model_selection import train_test_split\n",
    "from sklearn.metrics import precision_score, recall_score, f1_score\n",
    "from sklearn import neighbors\n",
    "from sklearn.model_selection import GridSearchCV \n",
    "sns.set()"
   ]
  },
  {
   "cell_type": "code",
   "execution_count": 12,
   "metadata": {},
   "outputs": [
    {
     "name": "stdout",
     "output_type": "stream",
     "text": [
      "(41106, 19)\n"
     ]
    }
   ],
   "source": [
    "# import data from all csv files in the raw_data folder into dataframes\n",
    "df = pd.DataFrame()\n",
    "for filename in os.listdir('raw_data'):\n",
    "    f = os.path.join('raw_data', filename)\n",
    "    if f.endswith('.csv'):\n",
    "        df = pd.concat([df, pd.read_csv(f)], ignore_index=True)\n",
    "print(df.shape)\n"
   ]
  },
  {
   "cell_type": "code",
   "execution_count": 13,
   "metadata": {},
   "outputs": [
    {
     "name": "stdout",
     "output_type": "stream",
     "text": [
      "                                            track           artist  \\\n",
      "0                                     Misty Roses  Astrud Gilberto   \n",
      "1                                      Never Ever       All Saints   \n",
      "2                                     Soul Sermon    Gregg Karukas   \n",
      "3                       Clarinet Marmalade - Live    Alton Purnell   \n",
      "4  До смерті і довше - Drum & Base and Rock Remix         Skryabin   \n",
      "\n",
      "                                    uri  danceability  energy  key  loudness  \\\n",
      "0  spotify:track:50RBM1j1Dw7WYmsGsWg9Tm         0.527   0.316    1   -15.769   \n",
      "1  spotify:track:5FTz9qQ94PyUHETyAyfYZN         0.738   0.541    1    -5.485   \n",
      "2  spotify:track:6m24oe3lk1UMxq9zq4iPFi         0.736   0.419    0   -10.662   \n",
      "3  spotify:track:5FOXuiLI6knVtgMUjWKj6x         0.565   0.594    5   -13.086   \n",
      "4  spotify:track:6CxyIPTqSPvAPXfrIZczs4         0.513   0.760    4   -10.077   \n",
      "\n",
      "   mode  speechiness  acousticness  instrumentalness  liveness  valence  \\\n",
      "0     1       0.0310      0.693000           0.00699    0.1680    0.543   \n",
      "1     1       0.0311      0.559000           0.00000    0.0492    0.309   \n",
      "2     1       0.0300      0.693000           0.49500    0.0809    0.265   \n",
      "3     1       0.0646      0.655000           0.92600    0.6750    0.763   \n",
      "4     1       0.0355      0.000017           0.00339    0.1530    0.961   \n",
      "\n",
      "     tempo  duration_ms  time_signature  chorus_hit  sections  target  \n",
      "0  116.211       158840               4    53.89523         6       0  \n",
      "1  134.187       387573               4    32.16853        16       1  \n",
      "2   93.982       237267               4    42.05369         9       0  \n",
      "3  114.219       375933               4    80.99693        10       0  \n",
      "4  153.166       430653               4    25.57331        20       0  \n"
     ]
    }
   ],
   "source": [
    "print(df.head())"
   ]
  }
 ],
 "metadata": {
  "kernelspec": {
   "display_name": "base",
   "language": "python",
   "name": "python3"
  },
  "language_info": {
   "codemirror_mode": {
    "name": "ipython",
    "version": 3
   },
   "file_extension": ".py",
   "mimetype": "text/x-python",
   "name": "python",
   "nbconvert_exporter": "python",
   "pygments_lexer": "ipython3",
   "version": "3.8.8"
  }
 },
 "nbformat": 4,
 "nbformat_minor": 2
}
