{
 "cells": [
  {
   "cell_type": "code",
   "execution_count": 17,
   "metadata": {},
   "outputs": [],
   "source": [
    "# import libraries for data manipulation, analysis and visualisation\n",
    "import pandas as pd\n",
    "import os\n",
    "import matplotlib.pyplot as plt\n",
    "import seaborn as sns\n",
    "import spotipy\n",
    "from spotipy.oauth2 import SpotifyClientCredentials\n",
    "from sklearn.linear_model import LogisticRegression\n",
    "from sklearn.model_selection import train_test_split\n",
    "from sklearn.metrics import precision_score, recall_score, f1_score\n",
    "from sklearn import neighbors\n",
    "from sklearn.model_selection import GridSearchCV \n",
    "sns.set()"
   ]
  },
  {
   "cell_type": "code",
   "execution_count": 12,
   "metadata": {},
   "outputs": [
    {
     "name": "stdout",
     "output_type": "stream",
     "text": [
      "(41106, 19)\n"
     ]
    }
   ],
   "source": [
    "# import data from all csv files in the raw_data folder into dataframes\n",
    "df = pd.DataFrame()\n",
    "for filename in os.listdir('raw_data'):\n",
    "    f = os.path.join('raw_data', filename)\n",
    "    if f.endswith('.csv'):\n",
    "        df = pd.concat([df, pd.read_csv(f)], ignore_index=True)\n",
    "print(df.shape)\n"
   ]
  },
  {
   "cell_type": "code",
   "execution_count": 13,
   "metadata": {},
   "outputs": [
    {
     "name": "stdout",
     "output_type": "stream",
     "text": [
      "                                            track           artist  \\\n",
      "0                                     Misty Roses  Astrud Gilberto   \n",
      "1                                      Never Ever       All Saints   \n",
      "2                                     Soul Sermon    Gregg Karukas   \n",
      "3                       Clarinet Marmalade - Live    Alton Purnell   \n",
      "4  До смерті і довше - Drum & Base and Rock Remix         Skryabin   \n",
      "\n",
      "                                    uri  danceability  energy  key  loudness  \\\n",
      "0  spotify:track:50RBM1j1Dw7WYmsGsWg9Tm         0.527   0.316    1   -15.769   \n",
      "1  spotify:track:5FTz9qQ94PyUHETyAyfYZN         0.738   0.541    1    -5.485   \n",
      "2  spotify:track:6m24oe3lk1UMxq9zq4iPFi         0.736   0.419    0   -10.662   \n",
      "3  spotify:track:5FOXuiLI6knVtgMUjWKj6x         0.565   0.594    5   -13.086   \n",
      "4  spotify:track:6CxyIPTqSPvAPXfrIZczs4         0.513   0.760    4   -10.077   \n",
      "\n",
      "   mode  speechiness  acousticness  instrumentalness  liveness  valence  \\\n",
      "0     1       0.0310      0.693000           0.00699    0.1680    0.543   \n",
      "1     1       0.0311      0.559000           0.00000    0.0492    0.309   \n",
      "2     1       0.0300      0.693000           0.49500    0.0809    0.265   \n",
      "3     1       0.0646      0.655000           0.92600    0.6750    0.763   \n",
      "4     1       0.0355      0.000017           0.00339    0.1530    0.961   \n",
      "\n",
      "     tempo  duration_ms  time_signature  chorus_hit  sections  target  \n",
      "0  116.211       158840               4    53.89523         6       0  \n",
      "1  134.187       387573               4    32.16853        16       1  \n",
      "2   93.982       237267               4    42.05369         9       0  \n",
      "3  114.219       375933               4    80.99693        10       0  \n",
      "4  153.166       430653               4    25.57331        20       0  \n"
     ]
    }
   ],
   "source": [
    "print(df.head())"
   ]
  },
  {
   "cell_type": "code",
   "execution_count": 19,
   "metadata": {},
   "outputs": [
    {
     "data": {
      "text/plain": [
       "{'artist': 'Astrud Gilberto',\n",
       " 'album': \"Jazz 'Round Midnight: Astrud Gilberto\",\n",
       " 'release_date': '1996-08-20',\n",
       " 'length': 158840,\n",
       " 'popularity': 0,\n",
       " 'song_name': 'Misty Roses',\n",
       " 'key': 1,\n",
       " 'mode': 1,\n",
       " 'time_signature': 4,\n",
       " 'acousticness': 0.693,\n",
       " 'danceability': 0.527,\n",
       " 'energy': 0.316,\n",
       " 'instrumentalness': 0.00699,\n",
       " 'liveness': 0.168,\n",
       " 'loudness': -15.769,\n",
       " 'speechiness': 0.031,\n",
       " 'tempo': 116.211,\n",
       " 'valence': 0.543,\n",
       " 'uri': '50RBM1j1Dw7WYmsGsWg9Tm'}"
      ]
     },
     "execution_count": 19,
     "metadata": {},
     "output_type": "execute_result"
    }
   ],
   "source": [
    "# log into spotify api using client credentials, and get metadata for a song using its uri\n",
    "client_credentials_manager = SpotifyClientCredentials(client_id='9ed081edf0f34c4099de8bdaae170067', client_secret='3a186ba6127b495c88ef0d4cf99d45ed')\n",
    "sp = spotipy.Spotify(client_credentials_manager=client_credentials_manager)\n",
    "def get_song_metadata(uri):\n",
    "    # get song artist uri\n",
    "    \n",
    "    meta = sp.track(uri)\n",
    "    features = sp.audio_features(uri)\n",
    "    # meta\n",
    "    # features\n",
    "    # meta.keys()\n",
    "    # features[0].keys()\n",
    "    # create a dictionary for song metadata\n",
    "    song_meta = {'artist': meta['album']['artists'][0]['name'],\n",
    "                 'album': meta['album']['name'],\n",
    "                 'release_date': meta['album']['release_date'],\n",
    "                 'length': meta['duration_ms'],\n",
    "                 'popularity': meta['popularity'],\n",
    "                 'song_name': meta['name'],\n",
    "                 'key': features[0]['key'],\n",
    "                 'mode': features[0]['mode'],\n",
    "                 'time_signature': features[0]['time_signature'],\n",
    "                 'acousticness': features[0]['acousticness'],\n",
    "                 'danceability': features[0]['danceability'],\n",
    "                 'energy': features[0]['energy'],\n",
    "                 'instrumentalness': features[0]['instrumentalness'],\n",
    "                 'liveness': features[0]['liveness'],\n",
    "                 'loudness': features[0]['loudness'],\n",
    "                 'speechiness':\n",
    "                    features[0]['speechiness'],\n",
    "                    'tempo': features[0]['tempo'],\n",
    "                    'valence': features[0]['valence'],\n",
    "                    'uri': uri}\n",
    "    return song_meta\n",
    "get_song_metadata('50RBM1j1Dw7WYmsGsWg9Tm')\n"
   ]
  },
  {
   "cell_type": "code",
   "execution_count": 20,
   "metadata": {},
   "outputs": [
    {
     "ename": "SpotifyException",
     "evalue": "http status: 400, code:-1 - Unsupported URL / URI., reason: None",
     "output_type": "error",
     "traceback": [
      "\u001b[0;31m---------------------------------------------------------------------------\u001b[0m",
      "\u001b[0;31mSpotifyException\u001b[0m                          Traceback (most recent call last)",
      "\u001b[0;32m<ipython-input-20-9d70e71cb0b0>\u001b[0m in \u001b[0;36m<module>\u001b[0;34m\u001b[0m\n\u001b[1;32m      4\u001b[0m     \u001b[0;32mreturn\u001b[0m \u001b[0martist\u001b[0m\u001b[0;34m[\u001b[0m\u001b[0;34m'genres'\u001b[0m\u001b[0;34m]\u001b[0m\u001b[0;34m\u001b[0m\u001b[0;34m\u001b[0m\u001b[0m\n\u001b[1;32m      5\u001b[0m \u001b[0;34m\u001b[0m\u001b[0m\n\u001b[0;32m----> 6\u001b[0;31m \u001b[0mget_artist_genre\u001b[0m\u001b[0;34m(\u001b[0m\u001b[0;34m'Astrud Gilberto'\u001b[0m\u001b[0;34m)\u001b[0m\u001b[0;34m\u001b[0m\u001b[0;34m\u001b[0m\u001b[0m\n\u001b[0m",
      "\u001b[0;32m<ipython-input-20-9d70e71cb0b0>\u001b[0m in \u001b[0;36mget_artist_genre\u001b[0;34m(artist)\u001b[0m\n\u001b[1;32m      1\u001b[0m \u001b[0;31m# get genre for an artist using spotify api\u001b[0m\u001b[0;34m\u001b[0m\u001b[0;34m\u001b[0m\u001b[0;34m\u001b[0m\u001b[0m\n\u001b[1;32m      2\u001b[0m \u001b[0;32mdef\u001b[0m \u001b[0mget_artist_genre\u001b[0m\u001b[0;34m(\u001b[0m\u001b[0martist\u001b[0m\u001b[0;34m)\u001b[0m\u001b[0;34m:\u001b[0m\u001b[0;34m\u001b[0m\u001b[0;34m\u001b[0m\u001b[0m\n\u001b[0;32m----> 3\u001b[0;31m     \u001b[0martist\u001b[0m \u001b[0;34m=\u001b[0m \u001b[0msp\u001b[0m\u001b[0;34m.\u001b[0m\u001b[0martist\u001b[0m\u001b[0;34m(\u001b[0m\u001b[0martist\u001b[0m\u001b[0;34m)\u001b[0m\u001b[0;34m\u001b[0m\u001b[0;34m\u001b[0m\u001b[0m\n\u001b[0m\u001b[1;32m      4\u001b[0m     \u001b[0;32mreturn\u001b[0m \u001b[0martist\u001b[0m\u001b[0;34m[\u001b[0m\u001b[0;34m'genres'\u001b[0m\u001b[0;34m]\u001b[0m\u001b[0;34m\u001b[0m\u001b[0;34m\u001b[0m\u001b[0m\n\u001b[1;32m      5\u001b[0m \u001b[0;34m\u001b[0m\u001b[0m\n",
      "\u001b[0;32m/opt/anaconda3/lib/python3.8/site-packages/spotipy/client.py\u001b[0m in \u001b[0;36martist\u001b[0;34m(self, artist_id)\u001b[0m\n\u001b[1;32m    389\u001b[0m         \"\"\"\n\u001b[1;32m    390\u001b[0m \u001b[0;34m\u001b[0m\u001b[0m\n\u001b[0;32m--> 391\u001b[0;31m         \u001b[0mtrid\u001b[0m \u001b[0;34m=\u001b[0m \u001b[0mself\u001b[0m\u001b[0;34m.\u001b[0m\u001b[0m_get_id\u001b[0m\u001b[0;34m(\u001b[0m\u001b[0;34m\"artist\"\u001b[0m\u001b[0;34m,\u001b[0m \u001b[0martist_id\u001b[0m\u001b[0;34m)\u001b[0m\u001b[0;34m\u001b[0m\u001b[0;34m\u001b[0m\u001b[0m\n\u001b[0m\u001b[1;32m    392\u001b[0m         \u001b[0;32mreturn\u001b[0m \u001b[0mself\u001b[0m\u001b[0;34m.\u001b[0m\u001b[0m_get\u001b[0m\u001b[0;34m(\u001b[0m\u001b[0;34m\"artists/\"\u001b[0m \u001b[0;34m+\u001b[0m \u001b[0mtrid\u001b[0m\u001b[0;34m)\u001b[0m\u001b[0;34m\u001b[0m\u001b[0;34m\u001b[0m\u001b[0m\n\u001b[1;32m    393\u001b[0m \u001b[0;34m\u001b[0m\u001b[0m\n",
      "\u001b[0;32m/opt/anaconda3/lib/python3.8/site-packages/spotipy/client.py\u001b[0m in \u001b[0;36m_get_id\u001b[0;34m(self, type, id)\u001b[0m\n\u001b[1;32m   1988\u001b[0m \u001b[0;34m\u001b[0m\u001b[0m\n\u001b[1;32m   1989\u001b[0m         \u001b[0;31m# TODO change to a ValueError in v3\u001b[0m\u001b[0;34m\u001b[0m\u001b[0;34m\u001b[0m\u001b[0;34m\u001b[0m\u001b[0m\n\u001b[0;32m-> 1990\u001b[0;31m         \u001b[0;32mraise\u001b[0m \u001b[0mSpotifyException\u001b[0m\u001b[0;34m(\u001b[0m\u001b[0;36m400\u001b[0m\u001b[0;34m,\u001b[0m \u001b[0;34m-\u001b[0m\u001b[0;36m1\u001b[0m\u001b[0;34m,\u001b[0m \u001b[0;34m\"Unsupported URL / URI.\"\u001b[0m\u001b[0;34m)\u001b[0m\u001b[0;34m\u001b[0m\u001b[0;34m\u001b[0m\u001b[0m\n\u001b[0m\u001b[1;32m   1991\u001b[0m \u001b[0;34m\u001b[0m\u001b[0m\n\u001b[1;32m   1992\u001b[0m     \u001b[0;32mdef\u001b[0m \u001b[0m_get_uri\u001b[0m\u001b[0;34m(\u001b[0m\u001b[0mself\u001b[0m\u001b[0;34m,\u001b[0m \u001b[0mtype\u001b[0m\u001b[0;34m,\u001b[0m \u001b[0mid\u001b[0m\u001b[0;34m)\u001b[0m\u001b[0;34m:\u001b[0m\u001b[0;34m\u001b[0m\u001b[0;34m\u001b[0m\u001b[0m\n",
      "\u001b[0;31mSpotifyException\u001b[0m: http status: 400, code:-1 - Unsupported URL / URI., reason: None"
     ]
    }
   ],
   "source": [
    "# get genre for an artist using spotify api\n",
    "def get_artist_genre(artist):\n",
    "    artist = sp.artist(artist)\n",
    "    return artist['genres']\n",
    "\n",
    "get_artist_genre('Astrud Gilberto')"
   ]
  }
 ],
 "metadata": {
  "kernelspec": {
   "display_name": "base",
   "language": "python",
   "name": "python3"
  },
  "language_info": {
   "codemirror_mode": {
    "name": "ipython",
    "version": 3
   },
   "file_extension": ".py",
   "mimetype": "text/x-python",
   "name": "python",
   "nbconvert_exporter": "python",
   "pygments_lexer": "ipython3",
   "version": "3.8.8"
  }
 },
 "nbformat": 4,
 "nbformat_minor": 2
}
